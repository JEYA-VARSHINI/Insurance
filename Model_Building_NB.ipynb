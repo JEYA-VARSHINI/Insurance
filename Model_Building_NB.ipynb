{
 "cells": [
  {
   "cell_type": "markdown",
   "metadata": {},
   "source": [
    "# MODELING"
   ]
  },
  {
   "cell_type": "markdown",
   "metadata": {},
   "source": [
    "### IMPORT LIBRARIES"
   ]
  },
  {
   "cell_type": "code",
   "execution_count": 24,
   "metadata": {},
   "outputs": [],
   "source": [
    "import numpy as np\n",
    "import pandas as pd\n",
    "# feature scaling and encoding\n",
    "from sklearn.preprocessing import StandardScaler,OneHotEncoder\n",
    "#train and testing data\n",
    "from sklearn.model_selection import train_test_split\n",
    "#regrression evaluation metrics \n",
    "from sklearn.metrics import r2_score,mean_squared_error,root_mean_squared_error,mean_absolute_error\n",
    "#models \n",
    "from sklearn.linear_model import LinearRegression\n",
    "from sklearn.tree import DecisionTreeRegressor\n",
    "from sklearn.neighbors import KNeighborsRegressor\n",
    "from sklearn.ensemble import RandomForestRegressor\n",
    "from sklearn.ensemble import GradientBoostingRegressor\n",
    "\n",
    "import pickle\n",
    "\n"
   ]
  },
  {
   "cell_type": "code",
   "execution_count": 25,
   "metadata": {},
   "outputs": [],
   "source": [
    "# Load your dataset\n",
    "data = pd.read_csv('C:/Users/surface/Downloads/bank insurence/insurance.csv')  # Replace 'spam.csv' with your file path"
   ]
  },
  {
   "cell_type": "markdown",
   "metadata": {},
   "source": [
    "### Data perprocessing"
   ]
  },
  {
   "cell_type": "code",
   "execution_count": 26,
   "metadata": {},
   "outputs": [
    {
     "data": {
      "text/html": [
       "<div>\n",
       "<style scoped>\n",
       "    .dataframe tbody tr th:only-of-type {\n",
       "        vertical-align: middle;\n",
       "    }\n",
       "\n",
       "    .dataframe tbody tr th {\n",
       "        vertical-align: top;\n",
       "    }\n",
       "\n",
       "    .dataframe thead th {\n",
       "        text-align: right;\n",
       "    }\n",
       "</style>\n",
       "<table border=\"1\" class=\"dataframe\">\n",
       "  <thead>\n",
       "    <tr style=\"text-align: right;\">\n",
       "      <th></th>\n",
       "      <th>age</th>\n",
       "      <th>sex</th>\n",
       "      <th>bmi</th>\n",
       "      <th>children</th>\n",
       "      <th>smoker</th>\n",
       "      <th>region</th>\n",
       "      <th>expenses</th>\n",
       "    </tr>\n",
       "  </thead>\n",
       "  <tbody>\n",
       "    <tr>\n",
       "      <th>0</th>\n",
       "      <td>19</td>\n",
       "      <td>female</td>\n",
       "      <td>27.9</td>\n",
       "      <td>0</td>\n",
       "      <td>yes</td>\n",
       "      <td>southwest</td>\n",
       "      <td>16884.92</td>\n",
       "    </tr>\n",
       "    <tr>\n",
       "      <th>1</th>\n",
       "      <td>18</td>\n",
       "      <td>male</td>\n",
       "      <td>33.8</td>\n",
       "      <td>1</td>\n",
       "      <td>no</td>\n",
       "      <td>southeast</td>\n",
       "      <td>1725.55</td>\n",
       "    </tr>\n",
       "    <tr>\n",
       "      <th>2</th>\n",
       "      <td>28</td>\n",
       "      <td>male</td>\n",
       "      <td>33.0</td>\n",
       "      <td>3</td>\n",
       "      <td>no</td>\n",
       "      <td>southeast</td>\n",
       "      <td>4449.46</td>\n",
       "    </tr>\n",
       "    <tr>\n",
       "      <th>3</th>\n",
       "      <td>33</td>\n",
       "      <td>male</td>\n",
       "      <td>22.7</td>\n",
       "      <td>0</td>\n",
       "      <td>no</td>\n",
       "      <td>northwest</td>\n",
       "      <td>21984.47</td>\n",
       "    </tr>\n",
       "    <tr>\n",
       "      <th>4</th>\n",
       "      <td>32</td>\n",
       "      <td>male</td>\n",
       "      <td>28.9</td>\n",
       "      <td>0</td>\n",
       "      <td>no</td>\n",
       "      <td>northwest</td>\n",
       "      <td>3866.86</td>\n",
       "    </tr>\n",
       "  </tbody>\n",
       "</table>\n",
       "</div>"
      ],
      "text/plain": [
       "   age     sex   bmi  children smoker     region  expenses\n",
       "0   19  female  27.9         0    yes  southwest  16884.92\n",
       "1   18    male  33.8         1     no  southeast   1725.55\n",
       "2   28    male  33.0         3     no  southeast   4449.46\n",
       "3   33    male  22.7         0     no  northwest  21984.47\n",
       "4   32    male  28.9         0     no  northwest   3866.86"
      ]
     },
     "execution_count": 26,
     "metadata": {},
     "output_type": "execute_result"
    }
   ],
   "source": [
    "data.head()"
   ]
  },
  {
   "cell_type": "code",
   "execution_count": 27,
   "metadata": {},
   "outputs": [],
   "source": [
    "def preprocess_inputs(df):\n",
    "    df = df.copy()"
   ]
  },
  {
   "cell_type": "markdown",
   "metadata": {},
   "source": [
    "#### SPLITTING"
   ]
  },
  {
   "cell_type": "code",
   "execution_count": 28,
   "metadata": {},
   "outputs": [],
   "source": [
    " # splitting the dataset into X and y\n",
    "X = data.drop('expenses', axis=1)\n",
    "y = data['expenses']"
   ]
  },
  {
   "cell_type": "code",
   "execution_count": 29,
   "metadata": {},
   "outputs": [],
   "source": [
    "    # train test split\n",
    "x_train, x_test, y_train, y_test = train_test_split(X, y, test_size=0.2, random_state=100)"
   ]
  },
  {
   "cell_type": "code",
   "execution_count": 30,
   "metadata": {},
   "outputs": [],
   "source": [
    "\n",
    "    # categorical columns\n",
    "cat_cols = ['sex', 'smoker', 'region']"
   ]
  },
  {
   "cell_type": "code",
   "execution_count": 31,
   "metadata": {},
   "outputs": [],
   "source": [
    "\n",
    "    # numerical columns\n",
    "num_cols = ['age', 'bmi', 'children']"
   ]
  },
  {
   "cell_type": "markdown",
   "metadata": {},
   "source": [
    "### Using onehotencoder"
   ]
  },
  {
   "cell_type": "code",
   "execution_count": 32,
   "metadata": {},
   "outputs": [],
   "source": [
    "\n",
    "    # one hot encode categorical columns\n",
    "encoder = OneHotEncoder(drop='first', sparse_output=False)"
   ]
  },
  {
   "cell_type": "markdown",
   "metadata": {},
   "source": [
    "### Fit & transform"
   ]
  },
  {
   "cell_type": "code",
   "execution_count": 33,
   "metadata": {},
   "outputs": [],
   "source": [
    "\n",
    "x_train_encode = encoder.fit_transform(x_train[cat_cols])\n",
    "x_test_encode = encoder.transform(x_test[cat_cols])\n",
    "\n",
    "x_train_encoded = pd.DataFrame(x_train_encode, index=x_train.index, columns=encoder.get_feature_names_out(cat_cols))\n",
    "x_test_encoded = pd.DataFrame(x_test_encode, index=x_test.index, columns=encoder.get_feature_names_out(cat_cols))\n"
   ]
  },
  {
   "cell_type": "markdown",
   "metadata": {},
   "source": [
    "### Using standardscaler"
   ]
  },
  {
   "cell_type": "code",
   "execution_count": 34,
   "metadata": {},
   "outputs": [],
   "source": [
    "    # scale numerical columns\n",
    "scaler = StandardScaler()"
   ]
  },
  {
   "cell_type": "code",
   "execution_count": 35,
   "metadata": {},
   "outputs": [],
   "source": [
    "x_train_scale = scaler.fit_transform(x_train[num_cols])\n",
    "x_test_scale = scaler.transform(x_test[num_cols])"
   ]
  },
  {
   "cell_type": "code",
   "execution_count": 36,
   "metadata": {},
   "outputs": [],
   "source": [
    "\n",
    "x_train_scaled = pd.DataFrame(x_train_scale, index=x_train.index, columns=num_cols)\n",
    "x_test_scaled = pd.DataFrame(x_test_scale, index=x_test.index, columns=num_cols)"
   ]
  },
  {
   "cell_type": "markdown",
   "metadata": {},
   "source": [
    "### Concantenating"
   ]
  },
  {
   "cell_type": "code",
   "execution_count": 37,
   "metadata": {},
   "outputs": [],
   "source": [
    "  # concatenate numerical and categorical features\n",
    "x_train_processed = pd.concat([x_train_scaled, x_train_encoded], axis=1)\n",
    "x_test_processed = pd.concat([x_test_scaled, x_test_encoded], axis=1)"
   ]
  },
  {
   "cell_type": "code",
   "execution_count": 38,
   "metadata": {},
   "outputs": [
    {
     "data": {
      "text/plain": [
       "(           age       bmi  children  sex_male  smoker_yes  region_northwest  \\\n",
       " 1306 -0.718505 -1.429287 -0.915145       0.0         1.0               0.0   \n",
       " 124   0.558926  0.518872  1.606414       0.0         0.0               1.0   \n",
       " 588   1.552484  0.843565 -0.915145       0.0         0.0               0.0   \n",
       " 1127 -0.292695  0.843565  0.765894       0.0         0.0               0.0   \n",
       " 201   0.629894  0.242883 -0.074626       0.0         0.0               0.0   \n",
       " ...        ...       ...       ...       ...         ...               ...   \n",
       " 802  -1.286253 -1.364349 -0.074626       1.0         0.0               0.0   \n",
       " 53   -0.221727  0.600045 -0.915145       1.0         1.0               0.0   \n",
       " 350   1.268610 -1.218237 -0.915145       0.0         0.0               1.0   \n",
       " 79    0.133116  0.372760 -0.915145       0.0         0.0               1.0   \n",
       " 792  -1.215284 -1.218237 -0.915145       0.0         0.0               0.0   \n",
       " \n",
       "       region_southeast  region_southwest  \n",
       " 1306               0.0               0.0  \n",
       " 124                0.0               0.0  \n",
       " 588                0.0               0.0  \n",
       " 1127               1.0               0.0  \n",
       " 201                1.0               0.0  \n",
       " ...                ...               ...  \n",
       " 802                0.0               1.0  \n",
       " 53                 1.0               0.0  \n",
       " 350                0.0               0.0  \n",
       " 79                 0.0               0.0  \n",
       " 792                0.0               0.0  \n",
       " \n",
       " [1070 rows x 8 columns],\n",
       "            age       bmi  children  sex_male  smoker_yes  region_northwest  \\\n",
       " 12   -1.144316  0.600045 -0.915145       1.0         0.0               0.0   \n",
       " 306  -0.789474 -0.520146  0.765894       0.0         0.0               0.0   \n",
       " 318   0.346021 -0.503912 -0.915145       0.0         0.0               1.0   \n",
       " 815  -1.357221  0.129240 -0.915145       0.0         0.0               0.0   \n",
       " 157  -1.499158 -0.893544 -0.915145       1.0         1.0               0.0   \n",
       " ...        ...       ...       ...       ...         ...               ...   \n",
       " 713  -1.357221  1.590359 -0.915145       1.0         0.0               0.0   \n",
       " 1282 -1.499158 -1.461757 -0.915145       0.0         1.0               0.0   \n",
       " 531   1.623452  0.161709 -0.915145       0.0         0.0               0.0   \n",
       " 537   0.487958 -0.081811  0.765894       0.0         0.0               0.0   \n",
       " 1015  1.410547 -0.844840 -0.915145       1.0         0.0               1.0   \n",
       " \n",
       "       region_southeast  region_southwest  \n",
       " 12                 0.0               1.0  \n",
       " 306                0.0               1.0  \n",
       " 318                0.0               0.0  \n",
       " 815                1.0               0.0  \n",
       " 157                0.0               0.0  \n",
       " ...                ...               ...  \n",
       " 713                0.0               0.0  \n",
       " 1282               0.0               0.0  \n",
       " 531                0.0               0.0  \n",
       " 537                0.0               1.0  \n",
       " 1015               0.0               0.0  \n",
       " \n",
       " [268 rows x 8 columns],\n",
       " 1306    16115.30\n",
       " 124     10115.01\n",
       " 588     13635.64\n",
       " 1127     5836.52\n",
       " 201      8871.15\n",
       "           ...   \n",
       " 802      2103.08\n",
       " 53      37742.58\n",
       " 350     11830.61\n",
       " 79       6571.02\n",
       " 792      2731.91\n",
       " Name: expenses, Length: 1070, dtype: float64,\n",
       " 12       1826.84\n",
       " 306     20177.67\n",
       " 318      7421.19\n",
       " 815      1877.93\n",
       " 157     15518.18\n",
       "           ...   \n",
       " 713      1984.45\n",
       " 1282    14283.46\n",
       " 531     14043.48\n",
       " 537      8825.09\n",
       " 1015    12124.99\n",
       " Name: expenses, Length: 268, dtype: float64,\n",
       " OneHotEncoder(drop='first', sparse_output=False),\n",
       " StandardScaler())"
      ]
     },
     "execution_count": 38,
     "metadata": {},
     "output_type": "execute_result"
    }
   ],
   "source": [
    "x_train_processed, x_test_processed, y_train, y_test, encoder, scaler"
   ]
  },
  {
   "cell_type": "markdown",
   "metadata": {},
   "source": [
    "# LINEAR REGRESSION"
   ]
  },
  {
   "cell_type": "code",
   "execution_count": 39,
   "metadata": {},
   "outputs": [
    {
     "name": "stdout",
     "output_type": "stream",
     "text": [
      "Mean Squared Error (MSE): 32193435.273775563\n",
      "r2_score: 0.7946953084832675\n",
      "Root Mean Square Error: 5673.925913666441\n",
      "Mean Absolute Error: 3916.307718016824\n"
     ]
    }
   ],
   "source": [
    "model_lr = LinearRegression()\n",
    "model_lr.fit(x_train_processed,y_train)\n",
    "y_pred =model_lr.predict(x_test_processed)\n",
    "\n",
    "\n",
    "mse = mean_squared_error(y_test, y_pred)\n",
    "r2 = r2_score(y_test, y_pred)\n",
    "rmse = np.sqrt(mse)\n",
    "mae = mean_absolute_error(y_test, y_pred)\n",
    "\n",
    "\n",
    "print(\"Mean Squared Error (MSE):\", mse)\n",
    "print(\"r2_score:\",r2)\n",
    "print(\"Root Mean Square Error:\",rmse)\n",
    "print(\"Mean Absolute Error:\",mae)\n"
   ]
  },
  {
   "cell_type": "markdown",
   "metadata": {},
   "source": [
    "#####  >>This model explains about 79% of the variance in the data, but the RMSE (~5674) and MAE (~3916) suggest moderate prediction errors."
   ]
  },
  {
   "cell_type": "markdown",
   "metadata": {},
   "source": [
    "# DECISIONTREE REGRESSION"
   ]
  },
  {
   "cell_type": "code",
   "execution_count": 40,
   "metadata": {},
   "outputs": [
    {
     "name": "stdout",
     "output_type": "stream",
     "text": [
      "Mean Squared Error (MSE): 42677396.6877806\n",
      "r2_score: 0.7278367565557895\n",
      "Root Mean Square Error: 6532.793941934844\n",
      "Mean Absolute Error: 3295.156940298508\n"
     ]
    }
   ],
   "source": [
    "tree_model = DecisionTreeRegressor()\n",
    "tree_model.fit(x_train_processed, y_train)\n",
    "\n",
    "y_pred = tree_model.predict(x_test_processed)\n",
    "\n",
    "\n",
    "mse = mean_squared_error(y_test, y_pred)\n",
    "r2 = r2_score(y_test, y_pred)\n",
    "rmse = np.sqrt(mse)\n",
    "mae = mean_absolute_error(y_test, y_pred)\n",
    "\n",
    "\n",
    "print(\"Mean Squared Error (MSE):\", mse)\n",
    "print(\"r2_score:\",r2)\n",
    "print(\"Root Mean Square Error:\",rmse)\n",
    "print(\"Mean Absolute Error:\",mae)"
   ]
  },
  {
   "cell_type": "markdown",
   "metadata": {},
   "source": [
    "##### >>This model has a lower \\(R^2\\) of 0.71, indicating less accuracy, and higher RMSE (~6769), suggesting it struggles with prediction errors compared to other models."
   ]
  },
  {
   "cell_type": "markdown",
   "metadata": {},
   "source": [
    "# RANDOMFOREST REGRESSION"
   ]
  },
  {
   "cell_type": "code",
   "execution_count": 41,
   "metadata": {},
   "outputs": [
    {
     "name": "stdout",
     "output_type": "stream",
     "text": [
      "Mean Squared Error (MSE): 20746370.145219225\n",
      "r2_score: 0.8676957868418043\n",
      "Root Mean Square Error: 4554.818343822202\n",
      "Mean Absolute Error: 2805.4399025000007\n"
     ]
    }
   ],
   "source": [
    "rf_model = RandomForestRegressor()\n",
    "rf_model.fit(x_train_processed, y_train)\n",
    "\n",
    "y_pred = rf_model.predict(x_test_processed)\n",
    "\n",
    "mse = mean_squared_error(y_test, y_pred)\n",
    "r2 = r2_score(y_test, y_pred)\n",
    "rmse = np.sqrt(mse)\n",
    "mae = mean_absolute_error(y_test, y_pred)\n",
    "\n",
    "\n",
    "print(\"Mean Squared Error (MSE):\", mse)\n",
    "print(\"r2_score:\",r2)\n",
    "print(\"Root Mean Square Error:\",rmse)\n",
    "print(\"Mean Absolute Error:\",mae)"
   ]
  },
  {
   "cell_type": "markdown",
   "metadata": {},
   "source": [
    "##### >>It performs well, with an \\(R^2\\) of 0.87, indicating strong predictive power and relatively low errors (RMSE: 4577, MAE: 2800), making it a reliable model."
   ]
  },
  {
   "cell_type": "markdown",
   "metadata": {},
   "source": [
    "# GRADIENTBOOSTING REGRESSION"
   ]
  },
  {
   "cell_type": "code",
   "execution_count": 42,
   "metadata": {},
   "outputs": [
    {
     "name": "stdout",
     "output_type": "stream",
     "text": [
      "Mean Squared Error (MSE): 15712318.6771384\n",
      "r2_score: 0.8997990518380558\n",
      "Root Mean Square Error: 3963.8767232519226\n",
      "Mean Absolute Error: 2356.9135959613945\n"
     ]
    }
   ],
   "source": [
    "gbr_model = GradientBoostingRegressor()\n",
    "gbr_model.fit(x_train_processed, y_train)\n",
    "\n",
    "y_pred = gbr_model.predict(x_test_processed)\n",
    "\n",
    "mse = mean_squared_error(y_test, y_pred)\n",
    "r2 = r2_score(y_test, y_pred)\n",
    "rmse = np.sqrt(mse)\n",
    "mae = mean_absolute_error(y_test, y_pred)\n",
    "\n",
    "\n",
    "print(\"Mean Squared Error (MSE):\", mse)\n",
    "print(\"r2_score:\",r2)\n",
    "print(\"Root Mean Square Error:\",rmse)\n",
    "print(\"Mean Absolute Error:\",mae)"
   ]
  },
  {
   "cell_type": "markdown",
   "metadata": {},
   "source": [
    "##### >>The KNeighborsRegressor shows weaker performance with a relatively low \\(R^2\\) of 0.72 and higher errors (RMSE: 6632, MAE: 4108), indicating less accurate predictions compared to other models."
   ]
  },
  {
   "cell_type": "markdown",
   "metadata": {},
   "source": [
    "# KNEIGHBORS REGRESSION"
   ]
  },
  {
   "cell_type": "code",
   "execution_count": 43,
   "metadata": {},
   "outputs": [
    {
     "name": "stdout",
     "output_type": "stream",
     "text": [
      "Mean Squared Error (MSE): 43979681.832229085\n",
      "r2_score: 0.7195317947654702\n",
      "Root Mean Square Error: 6631.717864341718\n",
      "Mean Absolute Error: 4107.901992537313\n"
     ]
    }
   ],
   "source": [
    "knn_model = KNeighborsRegressor() \n",
    "knn_model.fit(x_train_processed, y_train)\n",
    "\n",
    "y_pred = knn_model.predict(x_test_processed)\n",
    "\n",
    "mse = mean_squared_error(y_test, y_pred)\n",
    "r2 = r2_score(y_test, y_pred)\n",
    "rmse = np.sqrt(mse)\n",
    "mae = mean_absolute_error(y_test, y_pred)\n",
    "\n",
    "\n",
    "print(\"Mean Squared Error (MSE):\", mse)\n",
    "print(\"r2_score:\",r2)\n",
    "print(\"Root Mean Square Error:\",rmse)\n",
    "print(\"Mean Absolute Error:\",mae)"
   ]
  },
  {
   "cell_type": "markdown",
   "metadata": {},
   "source": [
    "##### >>It shows weaker performance with a relatively low \\(R^2\\) of 0.72 and higher errors (RMSE: 6632, MAE: 4108), indicating less accurate predictions compared to other models."
   ]
  },
  {
   "cell_type": "code",
   "execution_count": 44,
   "metadata": {},
   "outputs": [],
   "source": [
    "with open(\"encoder.pkl\", \"wb\") as f:\n",
    "    pickle.dump(encoder, f)"
   ]
  },
  {
   "cell_type": "code",
   "execution_count": 45,
   "metadata": {},
   "outputs": [],
   "source": [
    "with open(\"scaler.pkl\", \"wb\") as f:\n",
    "    pickle.dump(scaler, f)\n"
   ]
  },
  {
   "cell_type": "code",
   "execution_count": 46,
   "metadata": {},
   "outputs": [],
   "source": [
    "with open(\"gbr_model.pkl\", \"wb\") as f:\n",
    "    pickle.dump(gbr_model, f)\n"
   ]
  },
  {
   "cell_type": "markdown",
   "metadata": {},
   "source": [
    "# Conclusion\n",
    "\n",
    "##### The GradientBoostingRegressor outperforms the other models with the lowest MSE , highest \\(R^2\\) (0.90), and lowest errors (RMSE: 3963, MAE: 2357), indicating it provides the most accurate predictions among the models tested."
   ]
  }
 ],
 "metadata": {
  "kernelspec": {
   "display_name": "Python 3",
   "language": "python",
   "name": "python3"
  },
  "language_info": {
   "codemirror_mode": {
    "name": "ipython",
    "version": 3
   },
   "file_extension": ".py",
   "mimetype": "text/x-python",
   "name": "python",
   "nbconvert_exporter": "python",
   "pygments_lexer": "ipython3",
   "version": "3.12.5"
  }
 },
 "nbformat": 4,
 "nbformat_minor": 2
}
